{
 "cells": [
  {
   "cell_type": "markdown",
   "metadata": {},
   "source": [
    "# 📌 Introdução\n",
    "\n",
    "Neste arquivo vamos:\n",
    "  \n",
    "1- Ler e interpretar a página em html;\n",
    "\n",
    "2- Encontrar os dados que queremos raspar;\n",
    "\n",
    "3- Tratar e exportar os dados para usarmos posteriormente.\n",
    "\n",
    "# 📥 Objetivo\n",
    "\n",
    "Este documento realiza o **web scraping** dos dados de imóveis utilizados na análise de preços.\n",
    "\n",
    "# 🔗 Fonte dos Dados\n",
    "\n",
    "Os dados foram coletados do site https://www.nutristrategy.com/caloriesburned.htm por meio da biblioteca `rvest`.\n",
    "\n",
    "## 💻 Código\n",
    "\n",
    "Instalando e Carregando os Pacotes necessários\n"
   ]
  },
  {
   "cell_type": "code",
   "execution_count": 6,
   "metadata": {},
   "outputs": [],
   "source": [
    "if (!require(rvest)) install.packages(\"rvest\")\n",
    "if (!require(stringr)) install.packages(\"stringr\")\n",
    "if (!require(tidyverse)) install.packages(\"tidyverse\")\n",
    "if (!require(broom)) install.packages(\"broom\")\n",
    "if (!require(ggthemes)) install.packages(\"ggthemes\")\n",
    "if (!require(patchwork)) install.packages(\"patchwork\")\n"
   ]
  },
  {
   "cell_type": "markdown",
   "metadata": {},
   "source": [
    "Carregando a página que vamos raspar os dados\n",
    "\n"
   ]
  },
  {
   "cell_type": "code",
   "execution_count": 7,
   "metadata": {},
   "outputs": [
    {
     "data": {
      "text/html": [
       "<table class=\"dataframe\">\n",
       "<caption>A tibble: 6 × 5</caption>\n",
       "<thead>\n",
       "\t<tr><th scope=col>X1</th><th scope=col>X2</th><th scope=col>X3</th><th scope=col>X4</th><th scope=col>X5</th></tr>\n",
       "\t<tr><th scope=col>&lt;chr&gt;</th><th scope=col>&lt;chr&gt;</th><th scope=col>&lt;chr&gt;</th><th scope=col>&lt;chr&gt;</th><th scope=col>&lt;chr&gt;</th></tr>\n",
       "</thead>\n",
       "<tbody>\n",
       "\t<tr><td>Activity, \n",
       "                  Exercise or Sport (1 hour)</td><td>130 \n",
       "                  lb</td><td>155 \n",
       "                  lb</td><td>180 \n",
       "                  lb</td><td>205 \n",
       "                  lb</td></tr>\n",
       "\t<tr><td>Cycling, \n",
       "                mountain bike, bmx           </td><td>502                       </td><td>598                       </td><td>695                       </td><td>791                       </td></tr>\n",
       "\t<tr><td><span style=white-space:pre-wrap>Cycling, \n",
       "                &lt;10 mph, leisure bicycling   </span></td><td><span style=white-space:pre-wrap>236                       </span></td><td><span style=white-space:pre-wrap>281                       </span></td><td><span style=white-space:pre-wrap>327                       </span></td><td><span style=white-space:pre-wrap>372                       </span></td></tr>\n",
       "\t<tr><td><span style=white-space:pre-wrap>Cycling, \n",
       "                &gt;20 mph, racing              </span></td><td><span style=white-space:pre-wrap>944                       </span></td><td><span style=white-space:pre-wrap>1126                      </span></td><td><span style=white-space:pre-wrap>1308                      </span></td><td><span style=white-space:pre-wrap>1489                      </span></td></tr>\n",
       "\t<tr><td>Cycling, \n",
       "                10-11.9 mph, light           </td><td>354                       </td><td>422                       </td><td>490                       </td><td>558                       </td></tr>\n",
       "\t<tr><td>Cycling, \n",
       "                12-13.9 mph, moderate        </td><td>472                       </td><td>563                       </td><td>654                       </td><td>745                       </td></tr>\n",
       "</tbody>\n",
       "</table>\n"
      ],
      "text/latex": [
       "A tibble: 6 × 5\n",
       "\\begin{tabular}{lllll}\n",
       " X1 & X2 & X3 & X4 & X5\\\\\n",
       " <chr> & <chr> & <chr> & <chr> & <chr>\\\\\n",
       "\\hline\n",
       "\t Activity, \n",
       "                  Exercise or Sport (1 hour) & 130 \n",
       "                  lb & 155 \n",
       "                  lb & 180 \n",
       "                  lb & 205 \n",
       "                  lb\\\\\n",
       "\t Cycling, \n",
       "                mountain bike, bmx            & 502                        & 598                        & 695                        & 791                       \\\\\n",
       "\t Cycling, \n",
       "                <10 mph, leisure bicycling    & 236                        & 281                        & 327                        & 372                       \\\\\n",
       "\t Cycling, \n",
       "                >20 mph, racing               & 944                        & 1126                       & 1308                       & 1489                      \\\\\n",
       "\t Cycling, \n",
       "                10-11.9 mph, light            & 354                        & 422                        & 490                        & 558                       \\\\\n",
       "\t Cycling, \n",
       "                12-13.9 mph, moderate         & 472                        & 563                        & 654                        & 745                       \\\\\n",
       "\\end{tabular}\n"
      ],
      "text/markdown": [
       "\n",
       "A tibble: 6 × 5\n",
       "\n",
       "| X1 &lt;chr&gt; | X2 &lt;chr&gt; | X3 &lt;chr&gt; | X4 &lt;chr&gt; | X5 &lt;chr&gt; |\n",
       "|---|---|---|---|---|\n",
       "| Activity, \n",
       "                  Exercise or Sport (1 hour) | 130 \n",
       "                  lb | 155 \n",
       "                  lb | 180 \n",
       "                  lb | 205 \n",
       "                  lb |\n",
       "| Cycling, \n",
       "                mountain bike, bmx            | 502                        | 598                        | 695                        | 791                        |\n",
       "| Cycling, \n",
       "                &lt;10 mph, leisure bicycling    | 236                        | 281                        | 327                        | 372                        |\n",
       "| Cycling, \n",
       "                &gt;20 mph, racing               | 944                        | 1126                       | 1308                       | 1489                       |\n",
       "| Cycling, \n",
       "                10-11.9 mph, light            | 354                        | 422                        | 490                        | 558                        |\n",
       "| Cycling, \n",
       "                12-13.9 mph, moderate         | 472                        | 563                        | 654                        | 745                        |\n",
       "\n"
      ],
      "text/plain": [
       "  X1                                                      \n",
       "1 Activity, \\n                  Exercise or Sport (1 hour)\n",
       "2 Cycling, \\n                mountain bike, bmx           \n",
       "3 Cycling, \\n                <10 mph, leisure bicycling   \n",
       "4 Cycling, \\n                >20 mph, racing              \n",
       "5 Cycling, \\n                10-11.9 mph, light           \n",
       "6 Cycling, \\n                12-13.9 mph, moderate        \n",
       "  X2                         X3                        \n",
       "1 130 \\n                  lb 155 \\n                  lb\n",
       "2 502                        598                       \n",
       "3 236                        281                       \n",
       "4 944                        1126                      \n",
       "5 354                        422                       \n",
       "6 472                        563                       \n",
       "  X4                         X5                        \n",
       "1 180 \\n                  lb 205 \\n                  lb\n",
       "2 695                        791                       \n",
       "3 327                        372                       \n",
       "4 1308                       1489                      \n",
       "5 490                        558                       \n",
       "6 654                        745                       "
      ]
     },
     "metadata": {},
     "output_type": "display_data"
    }
   ],
   "source": [
    "url <- \"https://www.nutristrategy.com/caloriesburned.htm\"\n",
    "\n",
    "html <- read_html(url)\n",
    "\n",
    "tabela <- html |> \n",
    "  html_elements(\"table\") |> \n",
    "  html_table()\n",
    "\n",
    "dados <- tabela[[4]]\n",
    "head(dados)\n"
   ]
  },
  {
   "cell_type": "markdown",
   "metadata": {},
   "source": [
    "Raspando os dados que vamos utilizar e montando o dataframe\n",
    "\n"
   ]
  },
  {
   "cell_type": "code",
   "execution_count": 8,
   "metadata": {},
   "outputs": [
    {
     "name": "stdout",
     "output_type": "stream",
     "text": [
      "tibble [996 × 3] (S3: tbl_df/tbl/data.frame)\n",
      " $ atividade: chr [1:996] \"Cycling, mountain bike, bmx\" \"Cycling, mountain bike, bmx\" \"Cycling, mountain bike, bmx\" \"Cycling, mountain bike, bmx\" ...\n",
      " $ peso     : num [1:996] 59 70 82 93 59 70 82 93 59 70 ...\n",
      " $ caloria  : num [1:996] 502 598 695 791 236 ...\n"
     ]
    }
   ],
   "source": [
    "conversor <- function(l) {   # Converte libras em quilos\n",
    "  kg <- round(l/2.205,0)\n",
    "  return(kg)\n",
    "}\n",
    "\n",
    "colnames(dados) <- c(\"atividade\", conversor(c(130,155,180,205)))\n",
    "\n",
    "dados <- dados[-1,]\n",
    "\n",
    "dados <- dados |> \n",
    "  pivot_longer(\n",
    "    cols = -atividade,\n",
    "               names_to = \"peso\",\n",
    "               values_to = \"caloria\") |> \n",
    "  mutate(\n",
    "    peso = as.numeric(peso),\n",
    "    atividade = str_squish(atividade),\n",
    "    caloria = as.numeric(caloria)\n",
    "  )\n",
    "\n",
    "str(dados)\n"
   ]
  },
  {
   "cell_type": "markdown",
   "metadata": {},
   "source": [
    "Salvando os dados\n",
    "\n"
   ]
  },
  {
   "cell_type": "code",
   "execution_count": 10,
   "metadata": {},
   "outputs": [],
   "source": [
    "write.csv(dados, \"../datas/dados_raspados.csv\", row.names = F)\n",
    "\n"
   ]
  },
  {
   "cell_type": "markdown",
   "metadata": {},
   "source": [
    "Podemos seguir com a análise e modelagem\n",
    "\n"
   ]
  }
 ],
 "metadata": {
  "anaconda-cloud": "",
  "kernelspec": {
   "display_name": "R",
   "language": "R",
   "name": "ir"
  },
  "language_info": {
   "codemirror_mode": "r",
   "file_extension": ".r",
   "mimetype": "text/x-r-source",
   "name": "R",
   "pygments_lexer": "r",
   "version": "4.3.1"
  }
 },
 "nbformat": 4,
 "nbformat_minor": 1
}
